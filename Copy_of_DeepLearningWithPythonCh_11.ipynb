{
  "cells": [
    {
      "cell_type": "markdown",
      "metadata": {
        "id": "4QEpzlThhyZJ"
      },
      "source": [
        "# Deep Learning for text\n",
        "\n",
        "## Natural language processing: Bird's eye view\n",
        "\n",
        "In CS, we refer to human language as 'natural' languages, to distinguish them form languages designed for machines. Every machine language was designed: its starting point was a human engineer writing down a set of formal rules to describe what statements you could make in that language and what they meant.Rules came first, and people only started using the language once the rule set was complete. With human language, it's the reverse: usage comes first, rules arise later. Natural language was shaped by an evolution process, much like biological organisms - that's what makes it \"natural\". Its \"rules\", like the grammar of English, were formalized after the fact and are often ignored or broken by its users. As a result, while machine-readable language is highly structured and rigorous, using precise syntactic rules to weave together exactly defined concepts from a fixed vocabulary, natural language is messy-ambiguous, chaotic, sprawling, and constantly in flux.\\\n",
        "Modern NLP is about using machine learning and large datasets to give computers the ability not to understand language, which is a more lofty goal, but to ingest a piece of language as input and return something useful, like predicting the following:\n",
        "* Text classification\n",
        "* Content filtering\n",
        "* Sentiment Analysis\n",
        "* Language modeling\n",
        "* Translation\n",
        "* Summarization\n",
        "* etc..\n",
        "\n",
        "## Preparing text data\n",
        "Deep learning models, being differentiable functions, can only process numeric tensors: they can't take raw text as input. Vectorizing text is the process of transforming text into numeric tensors. Text vectorization processes come in many shapes and forms, but they all follow the same template:\n",
        "* First, you standardize the text to make it easier to process, such as by converting it to lowercase or removing punctuation.\n",
        "* You split the text into units (called tokens), such as characters, word, or groups of words. This is called tokenization.\n",
        "* You convert each such token into a numerical vector. This will usually involve firts indexing all tokens present in the data.\\\n",
        "![image.png](attachment:image.png)"
      ]
    },
    {
      "cell_type": "markdown",
      "metadata": {
        "id": "pKRvIE9XhyZK"
      },
      "source": [
        "### Test standardization\n",
        "Consider two senteces:\n",
        "* \"sunset came. i was staring at the Mexico sky. Isnt nature splendid??\"\n",
        "* \"Sunset came; I stared at the México sky. Isn't nature splendid?\"\n",
        "They are very similar, almost identical. Yet, if you were to convert them to byte strings, they would end up with very different representations, because \"i\" and \"I\" are two different characters, and so on. A machine learning model does not know a priori that \"i\" and \"I\" are the same letter, and so on.\n",
        "Text standardization is a basic form of feature engineering that aims to erase encoding differences that you don't want your model to have to deal with. It is not exclusive to machine learning either, you would have to do the same thing if you were building a search engine.\\\n",
        "One of the simplest and most widespread standardization schemes is \"convert to lowercase and remove punctuation characters\". Another comon transformation is converting special characters to a standard form.\\\n",
        "Lastly, a much more advanced standardization pattern that is more rarely used in a machine learning context is stemming. converting variations of a term into a single shared represetnation.\\\n",
        "With these standardization techniques, your model will require less training data and will generalize better. Of course, standardization may also erase some amount of information, so always keep the context in mind.\n",
        "\n",
        "### Text splitting (Tokenization)\n",
        "\n",
        "Once your text is standardized, you need to break it up into units to be vectorized, a step called tokenization. You could do this in three different ways:\n",
        "* Word-level: tokens are space-separated (or punctuation separated) substrings. A variant of this is to further split words into subwords when applicable.\n",
        "* N-gram: tokens are groups of N consecutive words.\n",
        "* Character-level: each character is its own token. Rarely used.\n",
        "In general, you always use word-level or N-gram tokenization. There are two kinds of text-processing models: those that care about word order, called sequence models, and those that treat input words as a set, discarding their original order, called bag-of-words models. If you are bulding a  sequence model, you will use word-level and if you are building a bag-of-words model, you will use N-gram. N-grams are a way to artificially inject a small amount of ocal word order information into the model.\n",
        "\n",
        "### Vocabulary indexing\n",
        "Once the text is split into tokens, you need to encode each token into a numerical representation. You could potentially do this in a stateless way, such as by hashing each token into a fixed binary vector, but in practice, the way you'd go about it is to build an index of all terms found in the training data, and assign a unique integer to each entry in vocabulary."
      ]
    },
    {
      "cell_type": "code",
      "execution_count": 1,
      "metadata": {
        "id": "op4FMMtohyZK"
      },
      "outputs": [],
      "source": [
        "# vocabulary = {}\n",
        "\n",
        "# for text in dataset:\n",
        "#     text = standardize(text)\n",
        "#     tokens = tokenize(text)\n",
        "#     for token in tokens:\n",
        "#         if token not in vocabulary:\n",
        "#             vocabulary[token]=len(vocabulary)"
      ]
    },
    {
      "cell_type": "markdown",
      "metadata": {
        "id": "6WZ_UBFthyZL"
      },
      "source": [
        "You can then convert that integer into a vector encodign that can be processed by a neural network like one-hot vector:"
      ]
    },
    {
      "cell_type": "code",
      "execution_count": 2,
      "metadata": {
        "id": "XNgpUEHJhyZM"
      },
      "outputs": [],
      "source": [
        "# def one_hot_encode_token(token):\n",
        "#     vector = np.zeros((len(vocabulary),))\n",
        "#     token_index = vocabulary[token]\n",
        "#     vector[token_index]=1\n",
        "#     return vector"
      ]
    },
    {
      "cell_type": "markdown",
      "metadata": {
        "id": "chcLmYMQhyZM"
      },
      "source": [
        "At this step is common to restrict the vocabulary to only the top 20,000 or 30,000 most common words found in the training data. Any text dataset tends to feature an extremely large number of unique terms, most of which only show up once or twice.\n",
        "Now, there is an important detail here that we should not overlook: when we look up a new token in out vocabulary index, it may not necessarily exist. Your training data may not have contained any instance of a word, so looking for the index may result in KeyError. To handle this, you should use an \"out of vocabulary\" index (OOV) - a catch-all for any token that wasn't in the index. It is usually index 1: uyou are actually doing token_index = vocabulary.get(token,1). When decoding a sequence of integers back into words, you will replace 1 with something like \"[UNK]\". “Why use 1 and not 0?” you may ask. That’s because 0 is already taken. There are\n",
        "two special tokens that you will commonly use: the OOV token (index 1), and the\n",
        "mask token (index 0). While the OOV token means “here was a word we did not recog-\n",
        "nize,” the mask token tells us “ignore me, I’m not a word.” You’d use it in particular to\n",
        "pad sequence data: because data batches need to be contiguous, all sequences in a\n",
        "batch of sequence data must have the same length, so shorter sequences should be\n",
        "padded to the length of the longest sequence."
      ]
    },
    {
      "cell_type": "markdown",
      "metadata": {
        "id": "002FaYSxhyZN"
      },
      "source": [
        "### Using the TextVectorization layer"
      ]
    },
    {
      "cell_type": "code",
      "execution_count": 3,
      "metadata": {
        "id": "QGuTPIpLhyZN"
      },
      "outputs": [],
      "source": [
        "import string\n",
        "\n",
        "class Vectorizer:\n",
        "    def standardize(self, text):\n",
        "        text = text.lower()\n",
        "        return \"\".join(char for char in text if char not in string.punctuation)\n",
        "    \n",
        "    def tokenize(self, text):\n",
        "        text=self.standardize(text)\n",
        "        return text.split()\n",
        "    \n",
        "    def make_vocabulary(self, dataset):\n",
        "        self.vocabulary = {\"\":0, \"[UNK]\":1}\n",
        "        for text in dataset:\n",
        "            text = self.standardize(text)\n",
        "            tokens = self.tokenize(text)\n",
        "            for token in tokens:\n",
        "                if token not in self.vocabulary:\n",
        "                    self.vocabulary[token] = len(self.vocabulary)\n",
        "        self.inverse_vocabulary = dict((v,k) for k,v in self.vocabulary.items())\n",
        "    \n",
        "    def encode(self, text):\n",
        "        text = self.standardize(text)\n",
        "        tokens = self.tokenize(text)\n",
        "        return [self.vocabulary.get(token,1) for token in tokens]\n",
        "    \n",
        "    def decode(self,int_sequence):\n",
        "        return \" \".join(self.inverse_vocabulary.get(i,\"[UNK]\") for i in int_sequence)\n",
        "\n",
        "vectorizer = Vectorizer()\n",
        "\n",
        "dataset = [\"I write, erase, rewrite\", \"Erase again, and then\", \"A poppy blooms.\"]\n",
        "\n",
        "vectorizer.make_vocabulary(dataset)"
      ]
    },
    {
      "cell_type": "code",
      "execution_count": 4,
      "metadata": {
        "id": "o9dC-5xThyZN",
        "outputId": "8f729621-6e7c-40f5-e814-31b784968342",
        "colab": {
          "base_uri": "https://localhost:8080/"
        }
      },
      "outputs": [
        {
          "output_type": "stream",
          "name": "stdout",
          "text": [
            "[2, 3, 5, 7, 1, 5, 6]\n",
            "i write rewrite and [UNK] rewrite again\n"
          ]
        }
      ],
      "source": [
        "test_sentence = \"I write, rewrite, and still rewrite again\"\n",
        "encoded_sentence = vectorizer.encode(test_sentence)\n",
        "print(encoded_sentence)\n",
        "decoded_sentence=vectorizer.decode(encoded_sentence)\n",
        "print(decoded_sentence)"
      ]
    },
    {
      "cell_type": "markdown",
      "metadata": {
        "id": "kEK8Sjc4hyZO"
      },
      "source": [
        "This wouldn't be very performant. In practice, you will work with the Keras TextVectorization layer, which is fast and efficient and can be dropped directly into a tf.data pipeline or Keras model."
      ]
    },
    {
      "cell_type": "code",
      "execution_count": 5,
      "metadata": {
        "id": "SzOVp88hhyZR"
      },
      "outputs": [],
      "source": [
        "from tensorflow.keras.layers import TextVectorization\n",
        "text_vectorization = TextVectorization(output_mode='int')"
      ]
    },
    {
      "cell_type": "markdown",
      "metadata": {
        "id": "zc6SWSz2hyZS"
      },
      "source": [
        "By default the TextVectorization layer will use the setting \"convert to lowercase and remove punctuation\" for text standardization, and \"split on whitespace\" for tokenization. You can provide custom functions for standardization and tokenization, which means the layer is flexible enough to handle any use case. Note that such custom fucntions should operate on tf.string tensors."
      ]
    },
    {
      "cell_type": "code",
      "execution_count": 6,
      "metadata": {
        "id": "ngg0QX6JhyZS",
        "outputId": "13b5525d-b293-4ffd-9a0a-8a30e3bd39e2",
        "colab": {
          "base_uri": "https://localhost:8080/"
        }
      },
      "outputs": [
        {
          "output_type": "execute_result",
          "data": {
            "text/plain": [
              "['',\n",
              " '[UNK]',\n",
              " 'write,',\n",
              " 'then',\n",
              " 'rewrite',\n",
              " 'poppy',\n",
              " 'i',\n",
              " 'erase,',\n",
              " 'erase',\n",
              " 'blooms.',\n",
              " 'and',\n",
              " 'again,',\n",
              " 'a']"
            ]
          },
          "metadata": {},
          "execution_count": 6
        }
      ],
      "source": [
        "import re\n",
        "import string\n",
        "import tensorflow as tf\n",
        "\n",
        "def custom_standardization_fn(string_tensor):\n",
        "    lowercase_string=tf.strings.lower(string_tensor)\n",
        "    return tf.strings.regex_replace(lowercase_string, f\"{re.escape(string.punctuation)}\", \"\")\n",
        "\n",
        "def custom_split_fn(string_tensor):\n",
        "    return tf.strings.split(string_tensor)\n",
        "\n",
        "text_vectorization=TextVectorization(output_mode=\"int\", standardize=custom_standardization_fn,split=custom_split_fn)\n",
        "\n",
        "dataset = [\"I write, erase, rewrite\", \"Erase again, and then\", \"A poppy blooms.\"]\n",
        "\n",
        "text_vectorization.adapt(dataset)\n",
        "\n",
        "#Retrieve the computed vocabulary\n",
        "text_vectorization.get_vocabulary()"
      ]
    },
    {
      "cell_type": "code",
      "execution_count": 7,
      "metadata": {
        "id": "1lKutFynhyZS",
        "outputId": "91a73cdc-73f8-4d1f-d247-712d9c729d6d",
        "colab": {
          "base_uri": "https://localhost:8080/"
        }
      },
      "outputs": [
        {
          "output_type": "stream",
          "name": "stdout",
          "text": [
            "tf.Tensor([ 6  2  1 10  1  4  1], shape=(7,), dtype=int64)\n",
            "i write, [UNK] and [UNK] rewrite [UNK]\n"
          ]
        }
      ],
      "source": [
        "#Let's try to encode then decode an example sentence\n",
        "\n",
        "vocabulary = text_vectorization.get_vocabulary()\n",
        "test_sentence = \"I write, rewrite, and still rewrite again\"\n",
        "encoded_sentence = text_vectorization(test_sentence)\n",
        "print(encoded_sentence)\n",
        "inverse_vocab=dict(enumerate(vocabulary))\n",
        "decoded_sentence = \" \".join(inverse_vocab[int(i)] for i in encoded_sentence)\n",
        "print(decoded_sentence)"
      ]
    },
    {
      "cell_type": "markdown",
      "metadata": {
        "id": "QimQueLbhyZS"
      },
      "source": [
        "Importantly, because TextVectorization is mostly a dictionary lookup operation, it\n",
        "can’t be executed on a GPU (or TPU)—only on a CPU. So if you’re training your model\n",
        "on a GPU, your TextVectorization layer will run on the CPU before sending its out-\n",
        "put to the GPU. This has important performance implications."
      ]
    },
    {
      "cell_type": "markdown",
      "metadata": {
        "id": "1HzQI8yLhyZS"
      },
      "source": [
        "## Two approaches for representing groups of words: Sets and sequences\n",
        "How a machine learning model should represent individual words is uncontroversial question: They're categorical features, and we know how to handle them. They should be encoded as dimensions in a feature space, or as category vectors. A much more problematic question, however, is how to encode the way words are woven into sentences: word order.\\\n",
        "The problem of order in natural language is an interesting one: unlike the steps of a timeseries, words in a senrence don't have a natural, canonical order. Different languages order similar words in different ways. Order is clearly important, but its relationship to meaning isn't straightforward. How to represent word order is the pivotal question from which different kinds of NLP architectures spring. The simplest thing you could do is just discard order and treat text as an unordered set of words-this gives bag-of-words models. You could also decide that words should be processed strictly in the order in which they appear, one at a time, like steps in a timeseries- you could then leverage recurrent models. Finally, hybrid approach is also possible: the Transformer architecture is technically order-agnostic, yet it injects word-position information into the representations it processes, which enables it to simultaneously look at different parts of a sentence (unlike RNN) while still being order-aware.Because they take into account word order, both RNNs and Transformers are called sequence models.\\\n",
        "Historically, most early applications of NLP just involved bag-of-words models Interest in sequence models only started rising with the rebirth of RNNs. Today, both approaches remain relevant. \\\n",
        "We'll demonstrate each approach on a well-known text classification benchmark: the IMDB movie review sentiment-classification dataset.\n"
      ]
    },
    {
      "cell_type": "markdown",
      "source": [
        "### Preparing the IMDB movie reviews data\n",
        "Let's start by downloading the dataset:"
      ],
      "metadata": {
        "id": "8DFaMnUqklTW"
      }
    },
    {
      "cell_type": "code",
      "execution_count": 8,
      "metadata": {
        "id": "g4M7wer8hyZT",
        "outputId": "f79b4753-33a2-402e-9458-9d2bac6d2018",
        "colab": {
          "base_uri": "https://localhost:8080/"
        }
      },
      "outputs": [
        {
          "output_type": "stream",
          "name": "stdout",
          "text": [
            "  % Total    % Received % Xferd  Average Speed   Time    Time     Time  Current\n",
            "                                 Dload  Upload   Total   Spent    Left  Speed\n",
            "100 80.2M  100 80.2M    0     0  60.6M      0  0:00:01  0:00:01 --:--:-- 60.6M\n"
          ]
        }
      ],
      "source": [
        "!curl -O https://ai.stanford.edu/~amaas/data/sentiment/aclImdb_v1.tar.gz\n",
        "!tar -xf aclImdb_v1.tar.gz"
      ]
    },
    {
      "cell_type": "markdown",
      "source": [
        "The train/pos/ directory contains a set of 12,500 text files, each of which contains the text body of a positive-sentiment movie review to be used as training data.\\\n",
        "The negative-sentiment reviews live in the 'neg' directories. In total, there are 25,000 text files for training and another 25,000 for testing.\\\n",
        "There are also train/unsup subdirectory, which we don't need.\n"
      ],
      "metadata": {
        "id": "bZKKsVD4lGdk"
      }
    },
    {
      "cell_type": "code",
      "source": [
        "!rm -r aclImdb/train/unsup"
      ],
      "metadata": {
        "id": "PuWNg2iRkviH"
      },
      "execution_count": 9,
      "outputs": []
    },
    {
      "cell_type": "markdown",
      "source": [
        "Let's take a look at the content of a few of these text files."
      ],
      "metadata": {
        "id": "8Byfnrl_ltv7"
      }
    },
    {
      "cell_type": "code",
      "source": [
        "!cat aclImdb/train/pos/4077_10.txt"
      ],
      "metadata": {
        "id": "WzaeNsqIlq4J",
        "outputId": "1ce36ff7-2180-44e5-c0dc-64e660307ed7",
        "colab": {
          "base_uri": "https://localhost:8080/"
        }
      },
      "execution_count": 10,
      "outputs": [
        {
          "output_type": "stream",
          "name": "stdout",
          "text": [
            "I first saw this back in the early 90s on UK TV, i did like it then but i missed the chance to tape it, many years passed but the film always stuck with me and i lost hope of seeing it TV again, the main thing that stuck with me was the end, the hole castle part really touched me, its easy to watch, has a great story, great music, the list goes on and on, its OK me saying how good it is but everyone will take there own best bits away with them once they have seen it, yes the animation is top notch and beautiful to watch, it does show its age in a very few parts but that has now become part of it beauty, i am so glad it has came out on DVD as it is one of my top 10 films of all time. Buy it or rent it just see it, best viewing is at night alone with drink and food in reach so you don't have to stop the film.<br /><br />Enjoy"
          ]
        }
      ]
    },
    {
      "cell_type": "markdown",
      "source": [
        "Let's prepare a validation set by setting apart 20% of the training text files in a new directory, aclImdb/val:"
      ],
      "metadata": {
        "id": "BXD69sA8l7Fi"
      }
    },
    {
      "cell_type": "code",
      "source": [
        "import os, pathlib, shutil, random\n",
        "\n",
        "base_dir = pathlib.Path('aclImdb')\n",
        "val_dir = base_dir/'val'\n",
        "train_dir = base_dir/'train'\n",
        "for category in ('neg','pos'):\n",
        "  os.makedirs(val_dir/category)\n",
        "  files = os.listdir(train_dir/category)\n",
        "  random.Random(1337).shuffle(files)\n",
        "  num_val_samples = int(0.2*len(files))\n",
        "  val_files = files[-num_val_samples:]\n",
        "  for fname in val_files:\n",
        "    shutil.move(train_dir/category/fname, val_dir/category/fname)"
      ],
      "metadata": {
        "id": "dKciWwz3l5Bb"
      },
      "execution_count": 11,
      "outputs": []
    },
    {
      "cell_type": "markdown",
      "source": [
        "We can create a batched Dataset of text files using text_dataset_from_directory utility."
      ],
      "metadata": {
        "id": "kAL7cPNXmwTq"
      }
    },
    {
      "cell_type": "code",
      "source": [
        "from tensorflow import keras\n",
        "batch_size = 32\n",
        "\n",
        "train_ds = keras.utils.text_dataset_from_directory('aclImdb/train',batch_size=batch_size)\n",
        "val_ds = keras.utils.text_dataset_from_directory('aclImdb/val', batch_size=batch_size)\n",
        "test_ds = keras.utils.text_dataset_from_directory('aclImdb/test', batch_size=batch_size)"
      ],
      "metadata": {
        "id": "qbPNA4TEmtPy",
        "outputId": "fae75631-89c9-428e-e382-859548929c4a",
        "colab": {
          "base_uri": "https://localhost:8080/"
        }
      },
      "execution_count": 12,
      "outputs": [
        {
          "output_type": "stream",
          "name": "stdout",
          "text": [
            "Found 20000 files belonging to 2 classes.\n",
            "Found 5000 files belonging to 2 classes.\n",
            "Found 25000 files belonging to 2 classes.\n"
          ]
        }
      ]
    },
    {
      "cell_type": "markdown",
      "source": [
        "These datasets yield inputs that are TensorFlow tf.string tensors and targets that are int32 tensors encoding the value 0 or 1."
      ],
      "metadata": {
        "id": "pq3vmwN_nUck"
      }
    },
    {
      "cell_type": "code",
      "source": [
        "for inputs, targets in train_ds:\n",
        "  print(\"inputs.shape:\", inputs.shape)\n",
        "  print(\"inputs.dtype:\", inputs.dtype)\n",
        "  print(\"targets.shape:\", targets.shape)\n",
        "  print(\"targets.dtype:\", targets.dtype)\n",
        "  print(\"inputs[0]:\", inputs[0])\n",
        "  print(\"targets[0]:\", targets[0])\n",
        "  break"
      ],
      "metadata": {
        "id": "oOchWy1_nR4Z",
        "outputId": "9d67a9d6-74b5-4958-da31-3e8d57d40034",
        "colab": {
          "base_uri": "https://localhost:8080/"
        }
      },
      "execution_count": 13,
      "outputs": [
        {
          "output_type": "stream",
          "name": "stdout",
          "text": [
            "inputs.shape: (32,)\n",
            "inputs.dtype: <dtype: 'string'>\n",
            "targets.shape: (32,)\n",
            "targets.dtype: <dtype: 'int32'>\n",
            "inputs[0]: tf.Tensor(b'if you are like me then you will love this great coming of age teen movie.i think it is up there with mischief/book of love/high school USA/shout/calender girl/crybaby/ all great movies set in the lat 50s & early 60s and it has a wonderful soundtrack.not as many songs as in some of these type of movies but still great.it is all so very funny at times and has a great love interest.all the young cast are great.i wish there were more type of these wonderful movies.my favourite movie of all time is back to the future when Marty mcfly gos back to 1955 well in these wonderful movies it stays in the fab 50s(early 60s) there are some movies of this type better than this but not many.', shape=(), dtype=string)\n",
            "targets[0]: tf.Tensor(1, shape=(), dtype=int32)\n"
          ]
        }
      ]
    },
    {
      "cell_type": "markdown",
      "source": [
        "### Processing words as a set: The bag-of-words approach\n",
        "The simplest way to encode a piece of text for processing by a ML model is to discard order and treat it as a set of tokens. You could either look at individual words (unigrams) or try to recover some local order information by looking at groups of consecutive token (N-grams).\\\n",
        "#### Single words (unigrams) with binary encoding\n",
        "If you use a bag of single words, the sentence \"the cat sat on the mat\" becomes {'cat','mat','on','sat','the'} \\\n",
        "The main advantage of this is that you can represent an entire text as a single vector, where each entry is a presence indicator for a given word. For instance, using binary encoding (multi-hot), you'd encode a text as a vector with as many dimensions as there are words in your vocabulary-with 0s almost everywhere and some 1s for dimensions that encode words present in text.\\\n",
        "Let's try this, first, let's process our raw text with TextVectorization layer so that they yield multi-hot encoded binary words vectors. Our layer will only look at single words."
      ],
      "metadata": {
        "id": "IHKw2ndNnsR_"
      }
    },
    {
      "cell_type": "code",
      "source": [
        "text_vectorization = TextVectorization(max_tokens=20000, output_mode='multi_hot')\n",
        "text_only_train_ds = train_ds.map(lambda x, y: x)\n",
        "text_vectorization.adapt(text_only_train_ds)\n",
        "\n",
        "binary_1gram_train_ds = train_ds.map(lambda x,y: (text_vectorization(x),y),num_parallel_calls=4)\n",
        "binary_1gram_val_ds = val_ds.map(lambda x,y: (text_vectorization(x),y),num_parallel_calls=4)\n",
        "binary_1gram_test_ds = test_ds.map(lambda x,y: (text_vectorization(x),y),num_parallel_calls=4)"
      ],
      "metadata": {
        "id": "FTs7VrFVnoQV"
      },
      "execution_count": 14,
      "outputs": []
    },
    {
      "cell_type": "code",
      "source": [
        "for inputs, targets in binary_1gram_train_ds:\n",
        "  print(\"inputs.shape:\", inputs.shape)\n",
        "  print(\"inputs.dtype:\", inputs.dtype)\n",
        "  print(\"targets.shape:\", targets.shape)\n",
        "  print(\"targets.dtype:\", targets.dtype)\n",
        "  print(\"inputs[0]:\", inputs[0])\n",
        "  print(\"targets[0]:\", targets[0])\n",
        "  break"
      ],
      "metadata": {
        "id": "dUrua5DkyWQh",
        "outputId": "70def7f9-3594-49ba-9abc-17a0a3613183",
        "colab": {
          "base_uri": "https://localhost:8080/"
        }
      },
      "execution_count": 15,
      "outputs": [
        {
          "output_type": "stream",
          "name": "stdout",
          "text": [
            "inputs.shape: (32, 20000)\n",
            "inputs.dtype: <dtype: 'float32'>\n",
            "targets.shape: (32,)\n",
            "targets.dtype: <dtype: 'int32'>\n",
            "inputs[0]: tf.Tensor([1. 1. 1. ... 0. 0. 0.], shape=(20000,), dtype=float32)\n",
            "targets[0]: tf.Tensor(1, shape=(), dtype=int32)\n"
          ]
        }
      ]
    },
    {
      "cell_type": "code",
      "source": [
        "#Model-building utility\n",
        "from tensorflow import keras\n",
        "from tensorflow.keras import layers\n",
        "\n",
        "def get_model(max_tokens=20000,hidden_dim=16):\n",
        "  inputs = keras.Input(shape=(max_tokens,))\n",
        "  x = layers.Dense(hidden_dim,activation='relu')(inputs)\n",
        "  x = layers.Dropout(0.5)(x)\n",
        "  outputs = layers.Dense(1,activation='sigmoid')(x)\n",
        "  model = keras.Model(inputs,outputs)\n",
        "  model.compile(optimizer='rmsprop', loss='binary_crossentropy',metrics=['accuracy'])\n",
        "  return model"
      ],
      "metadata": {
        "id": "UuhzCFkQye2C"
      },
      "execution_count": 16,
      "outputs": []
    },
    {
      "cell_type": "code",
      "source": [
        "#Train and Test binary unigram model\n",
        "\n",
        "model = get_model()\n",
        "model.summary()\n",
        "callbacks=[keras.callbacks.ModelCheckpoint('binary_1gram.keras',save_best_only=True)]\n",
        "model.fit(binary_1gram_train_ds.cache(),validation_data=binary_1gram_val_ds.cache(), epochs=10, callbacks=callbacks)\n",
        "model = keras.models.load_model('binary_1gram.keras')\n",
        "print(f\"Test acc: {model.evaluate(binary_1gram_test_ds)[1]:.3f}\")"
      ],
      "metadata": {
        "id": "jj1x_iO0zEKO",
        "outputId": "70dbb739-934f-47f1-f8bb-8a448c1e6dfa",
        "colab": {
          "base_uri": "https://localhost:8080/"
        }
      },
      "execution_count": 17,
      "outputs": [
        {
          "output_type": "stream",
          "name": "stdout",
          "text": [
            "Model: \"model\"\n",
            "_________________________________________________________________\n",
            " Layer (type)                Output Shape              Param #   \n",
            "=================================================================\n",
            " input_1 (InputLayer)        [(None, 20000)]           0         \n",
            "                                                                 \n",
            " dense (Dense)               (None, 16)                320016    \n",
            "                                                                 \n",
            " dropout (Dropout)           (None, 16)                0         \n",
            "                                                                 \n",
            " dense_1 (Dense)             (None, 1)                 17        \n",
            "                                                                 \n",
            "=================================================================\n",
            "Total params: 320,033\n",
            "Trainable params: 320,033\n",
            "Non-trainable params: 0\n",
            "_________________________________________________________________\n",
            "Epoch 1/10\n",
            "625/625 [==============================] - 10s 8ms/step - loss: 0.3968 - accuracy: 0.8342 - val_loss: 0.3030 - val_accuracy: 0.8856\n",
            "Epoch 2/10\n",
            "625/625 [==============================] - 3s 5ms/step - loss: 0.2696 - accuracy: 0.8992 - val_loss: 0.3061 - val_accuracy: 0.8898\n",
            "Epoch 3/10\n",
            "625/625 [==============================] - 2s 4ms/step - loss: 0.2375 - accuracy: 0.9151 - val_loss: 0.3212 - val_accuracy: 0.8906\n",
            "Epoch 4/10\n",
            "625/625 [==============================] - 2s 4ms/step - loss: 0.2263 - accuracy: 0.9233 - val_loss: 0.3423 - val_accuracy: 0.8880\n",
            "Epoch 5/10\n",
            "625/625 [==============================] - 2s 4ms/step - loss: 0.2146 - accuracy: 0.9281 - val_loss: 0.3629 - val_accuracy: 0.8894\n",
            "Epoch 6/10\n",
            "625/625 [==============================] - 3s 4ms/step - loss: 0.2073 - accuracy: 0.9303 - val_loss: 0.3788 - val_accuracy: 0.8874\n",
            "Epoch 7/10\n",
            "625/625 [==============================] - 3s 5ms/step - loss: 0.1985 - accuracy: 0.9352 - val_loss: 0.3921 - val_accuracy: 0.8854\n",
            "Epoch 8/10\n",
            "625/625 [==============================] - 3s 4ms/step - loss: 0.2023 - accuracy: 0.9349 - val_loss: 0.4127 - val_accuracy: 0.8826\n",
            "Epoch 9/10\n",
            "625/625 [==============================] - 2s 4ms/step - loss: 0.1996 - accuracy: 0.9378 - val_loss: 0.4165 - val_accuracy: 0.8846\n",
            "Epoch 10/10\n",
            "625/625 [==============================] - 4s 6ms/step - loss: 0.2029 - accuracy: 0.9393 - val_loss: 0.4278 - val_accuracy: 0.8820\n",
            "782/782 [==============================] - 4s 5ms/step - loss: 0.2962 - accuracy: 0.8814\n",
            "Test acc: 0.881\n"
          ]
        }
      ]
    },
    {
      "cell_type": "markdown",
      "source": [
        "This gets us a test accuracy of 89.2%. In this case, since the dataset is a balanced two-class classification dataset the 'naive baseline' we could reach without training an actual model would only be 50%. Meanwhile, the best score that can be achieved on this dataset without leveraging external data is around 95% test accuracy.\n",
        "#### Bigrams with Binary encoding\n",
        "Discarding word order is very reductive, because even atomic concepts can be expressed via multiple words: the term \"United States\" conveys a concept that is quite distinct from the meaning of the words \"states\" and \"united\" taken separately. For this reason, you usually end up re-injecting local order information into your bag-of-words representation by looking at N-grams rather than single words.\\\n",
        "With bigrams, our sentence becomes\n",
        "{\"the\", \"the cat\", \"cat\", \"cat sat\", \"sat\",\n",
        "\"sat on\", \"on\", \"on the\", \"the mat\", \"mat\"}\\\n",
        "The TextVectorization layer can be configured to return arbitrary N-grams: bigrams, trigrams, etc. Just pass an ngrams=N argument in the following listing."
      ],
      "metadata": {
        "id": "mbatV5JA0KBC"
      }
    },
    {
      "cell_type": "code",
      "source": [
        "text_vectorization = TextVectorization(ngrams=2, max_tokens=20000, output_mode='multi_hot')"
      ],
      "metadata": {
        "id": "mI917ZsI0C6h"
      },
      "execution_count": 18,
      "outputs": []
    },
    {
      "cell_type": "code",
      "source": [
        "text_vectorization.adapt(text_only_train_ds)\n",
        "binary_2grams_train_ds = train_ds.map(lambda x,y: (text_vectorization(x),y),num_parallel_calls=4)\n",
        "binary_2grams_val_ds = val_ds.map(lambda x,y: (text_vectorization(x),y),num_parallel_calls=4)\n",
        "binary_2grams_test_ds = test_ds.map(lambda x,y: (text_vectorization(x),y),num_parallel_calls=4)"
      ],
      "metadata": {
        "id": "hG4prfUu1kYa"
      },
      "execution_count": 19,
      "outputs": []
    },
    {
      "cell_type": "code",
      "source": [
        "model=get_model()\n",
        "model.summary()\n",
        "callbacks=[keras.callbacks.ModelCheckpoint('binary_2gram.keras', save_best_only=True)]\n",
        "model.fit(binary_2grams_train_ds.cache(),validation_data=binary_2grams_val_ds.cache(),epochs=10,callbacks=callbacks)\n",
        "model = keras.models.load_model('binary_2gram.keras')\n",
        "print(f\"Test acc: {model.evaluate(binary_2grams_test_ds)[1]:.3f}\")"
      ],
      "metadata": {
        "id": "_6K3DCk12Bg1",
        "outputId": "5133a9cb-20bc-4491-80f2-913e77c47a79",
        "colab": {
          "base_uri": "https://localhost:8080/"
        }
      },
      "execution_count": 20,
      "outputs": [
        {
          "output_type": "stream",
          "name": "stdout",
          "text": [
            "Model: \"model_1\"\n",
            "_________________________________________________________________\n",
            " Layer (type)                Output Shape              Param #   \n",
            "=================================================================\n",
            " input_2 (InputLayer)        [(None, 20000)]           0         \n",
            "                                                                 \n",
            " dense_2 (Dense)             (None, 16)                320016    \n",
            "                                                                 \n",
            " dropout_1 (Dropout)         (None, 16)                0         \n",
            "                                                                 \n",
            " dense_3 (Dense)             (None, 1)                 17        \n",
            "                                                                 \n",
            "=================================================================\n",
            "Total params: 320,033\n",
            "Trainable params: 320,033\n",
            "Non-trainable params: 0\n",
            "_________________________________________________________________\n",
            "Epoch 1/10\n",
            "625/625 [==============================] - 6s 9ms/step - loss: 0.3693 - accuracy: 0.8479 - val_loss: 0.2867 - val_accuracy: 0.8896\n",
            "Epoch 2/10\n",
            "625/625 [==============================] - 3s 5ms/step - loss: 0.2296 - accuracy: 0.9190 - val_loss: 0.2979 - val_accuracy: 0.8972\n",
            "Epoch 3/10\n",
            "625/625 [==============================] - 2s 4ms/step - loss: 0.1934 - accuracy: 0.9355 - val_loss: 0.3199 - val_accuracy: 0.8978\n",
            "Epoch 4/10\n",
            "625/625 [==============================] - 3s 4ms/step - loss: 0.1770 - accuracy: 0.9431 - val_loss: 0.3419 - val_accuracy: 0.8970\n",
            "Epoch 5/10\n",
            "625/625 [==============================] - 3s 4ms/step - loss: 0.1649 - accuracy: 0.9499 - val_loss: 0.3635 - val_accuracy: 0.8930\n",
            "Epoch 6/10\n",
            "625/625 [==============================] - 3s 4ms/step - loss: 0.1599 - accuracy: 0.9517 - val_loss: 0.3876 - val_accuracy: 0.8912\n",
            "Epoch 7/10\n",
            "625/625 [==============================] - 2s 4ms/step - loss: 0.1561 - accuracy: 0.9564 - val_loss: 0.4082 - val_accuracy: 0.8912\n",
            "Epoch 8/10\n",
            "625/625 [==============================] - 2s 4ms/step - loss: 0.1549 - accuracy: 0.9574 - val_loss: 0.4251 - val_accuracy: 0.8930\n",
            "Epoch 9/10\n",
            "625/625 [==============================] - 2s 4ms/step - loss: 0.1530 - accuracy: 0.9586 - val_loss: 0.4359 - val_accuracy: 0.8908\n",
            "Epoch 10/10\n",
            "625/625 [==============================] - 3s 5ms/step - loss: 0.1453 - accuracy: 0.9576 - val_loss: 0.4432 - val_accuracy: 0.8862\n",
            "782/782 [==============================] - 4s 5ms/step - loss: 0.2726 - accuracy: 0.8963\n",
            "Test acc: 0.896\n"
          ]
        }
      ]
    },
    {
      "cell_type": "markdown",
      "source": [
        "We are now getting 90.4% test accuracy, a marked improvement! Turn out local order is pretty important."
      ],
      "metadata": {
        "id": "EdbDjvg03932"
      }
    },
    {
      "cell_type": "markdown",
      "source": [
        "#### Bigrams TF-IDF Encoding\n",
        "You can also add a bit more information to this representation by counting how many times each word or N-gram occurs, that is to say, by taking the histogram of the words over the text:\n",
        "{\"the\": 2, \"the cat\": 1, \"cat\": 1, \"cat sat\": 1, \"sat\": 1,\n",
        "\"sat on\": 1, \"on\": 1, \"on the\": 1, \"the mat: 1\", \"mat\": 1}\n",
        "If you are doing text classification, knowing how many times a word occurs in a sample is critical: any sufficiently long movie review contian the word \"terrible\" regardless of sentiment, but a review that contains many instances of it is likely negative.\\\n",
        "Here is how you'd count bigram occurrences with the TextVectorization layer."
      ],
      "metadata": {
        "id": "yzZYK-Gv4H45"
      }
    },
    {
      "cell_type": "code",
      "source": [
        "text_vectorization = TextVectorization(ngrams=2,max_tokens=20000,output_mode='count')"
      ],
      "metadata": {
        "id": "NBlhnGqg3Efq"
      },
      "execution_count": 21,
      "outputs": []
    },
    {
      "cell_type": "markdown",
      "source": [
        "Now, some words are bound to occur more often than others no matter the text. The words 'the', 'a','is' and 'are' will always dominate your word count histograms, drowning other words-despite being pretty much useless features in a classification context.\\\n",
        "We can address this via normalization. We could just normaliza word counts by subtracting the mean and dividing by the variance. That would make sense. Except most vectorized sentences consist almost entirely of zeros, a property called \"sparsity\". That's a great property to have, as it dramatically reduces compute load and reduces the risk of overfitting. If we subtracted the mean from each feature, we'd wreck sparsity. Thus, whatever normalization scheme we use should be divide-only. What, then, should we use as the denominator? The best practice is to go with something called TF-IDF normalization - stands for \"term frequency, inverse document frequency\".\\\n",
        "TF-IDF is so common that it's built into the TextVectorization layer. All you need to do to start using it is to switch the output_mode argument to \"tf_idf\".\n"
      ],
      "metadata": {
        "id": "4zDbvfyR5hAE"
      }
    },
    {
      "cell_type": "markdown",
      "source": [
        "## Understanding TF-IDF Normalization\n",
        "The more a given term appears in a document, the more important that term is for understanding what the document is about. At the same time, the frequency at which the term appears across all documents in your dataset matters too: terms that appear in almost every document aren't particularly informative, while terms that appear only in a small subset of all texts are very distinctive, and thus important. TF-IDF is a metric that fuses these two ideas. It weights a given term by taking \"term frequency\", how many times it appears in the current document, and dividing it by a measure of 'document frequency', which estimates how oftern the term comes up across the dataset. You'd compute it as follows:"
      ],
      "metadata": {
        "id": "eGjJmDSi8P9t"
      }
    },
    {
      "cell_type": "code",
      "source": [
        "# def tidf(term, document, dataset):\n",
        "#   term_freq = document.count(term)\n",
        "#   doc_freq = math.log(sum(doc.count(term) for doc in dataset)+1)\n",
        "#   return term_freq/doc_freq"
      ],
      "metadata": {
        "id": "VfPhAwOo41WY"
      },
      "execution_count": 22,
      "outputs": []
    },
    {
      "cell_type": "markdown",
      "source": [
        "## Bigrams TF-IDF Encoding pt.2"
      ],
      "metadata": {
        "id": "WAzZvHsN-WhD"
      }
    },
    {
      "cell_type": "code",
      "source": [
        "#Configure TextVectorization to return TF-IDF-weighted outputs\n",
        "\n",
        "text_vectorization = TextVectorization(ngrams=2,max_tokens=20000,output_mode='tf_idf')"
      ],
      "metadata": {
        "id": "RKKYEUtD-B26"
      },
      "execution_count": 23,
      "outputs": []
    },
    {
      "cell_type": "code",
      "source": [
        "text_vectorization.adapt(text_only_train_ds)\n",
        "\n",
        "tfidf_2grams_train_ds=train_ds.map(lambda x,y:(text_vectorization(x),y),num_parallel_calls=4)\n",
        "tfidf_2grams_val_ds=val_ds.map(lambda x,y:(text_vectorization(x),y),num_parallel_calls=4)\n",
        "tfidf_2grams_test_ds=test_ds.map(lambda x,y:(text_vectorization(x),y),num_parallel_calls=4)\n",
        "\n",
        "model = get_model()\n",
        "model.summary()\n",
        "callbacks = [keras.callbacks.ModelCheckpoint('tfidf_2gram.keras', save_best_only=True)]\n",
        "model.fit(tfidf_2grams_train_ds.cache(),validation_data=tfidf_2grams_val_ds.cache(),epochs=10, callbacks=callbacks)\n",
        "model = keras.models.load_model('tfidf_2gram.keras')\n",
        "print(f\"Test acc:{model.evaluate(tfidf_2grams_test_ds)[1]:.3f}\")\n"
      ],
      "metadata": {
        "id": "zmrtaqvD-R9X",
        "outputId": "58f8ab0c-cac3-4868-c28d-3b3ad730a82e",
        "colab": {
          "base_uri": "https://localhost:8080/"
        }
      },
      "execution_count": 24,
      "outputs": [
        {
          "output_type": "stream",
          "name": "stdout",
          "text": [
            "Model: \"model_2\"\n",
            "_________________________________________________________________\n",
            " Layer (type)                Output Shape              Param #   \n",
            "=================================================================\n",
            " input_3 (InputLayer)        [(None, 20000)]           0         \n",
            "                                                                 \n",
            " dense_4 (Dense)             (None, 16)                320016    \n",
            "                                                                 \n",
            " dropout_2 (Dropout)         (None, 16)                0         \n",
            "                                                                 \n",
            " dense_5 (Dense)             (None, 1)                 17        \n",
            "                                                                 \n",
            "=================================================================\n",
            "Total params: 320,033\n",
            "Trainable params: 320,033\n",
            "Non-trainable params: 0\n",
            "_________________________________________________________________\n",
            "Epoch 1/10\n",
            "625/625 [==============================] - 7s 9ms/step - loss: 0.4898 - accuracy: 0.7807 - val_loss: 0.3561 - val_accuracy: 0.8726\n",
            "Epoch 2/10\n",
            "625/625 [==============================] - 2s 4ms/step - loss: 0.3176 - accuracy: 0.8725 - val_loss: 0.3709 - val_accuracy: 0.8740\n",
            "Epoch 3/10\n",
            "625/625 [==============================] - 2s 4ms/step - loss: 0.2641 - accuracy: 0.8930 - val_loss: 0.3202 - val_accuracy: 0.8868\n",
            "Epoch 4/10\n",
            "625/625 [==============================] - 2s 4ms/step - loss: 0.2463 - accuracy: 0.8985 - val_loss: 0.3730 - val_accuracy: 0.8836\n",
            "Epoch 5/10\n",
            "625/625 [==============================] - 3s 4ms/step - loss: 0.2378 - accuracy: 0.9026 - val_loss: 0.3894 - val_accuracy: 0.8806\n",
            "Epoch 6/10\n",
            "625/625 [==============================] - 2s 4ms/step - loss: 0.2306 - accuracy: 0.9043 - val_loss: 0.3684 - val_accuracy: 0.8668\n",
            "Epoch 7/10\n",
            "625/625 [==============================] - 2s 4ms/step - loss: 0.2149 - accuracy: 0.9068 - val_loss: 0.3608 - val_accuracy: 0.8716\n",
            "Epoch 8/10\n",
            "625/625 [==============================] - 2s 4ms/step - loss: 0.2070 - accuracy: 0.9093 - val_loss: 0.4466 - val_accuracy: 0.8828\n",
            "Epoch 9/10\n",
            "625/625 [==============================] - 3s 5ms/step - loss: 0.2108 - accuracy: 0.9097 - val_loss: 0.4208 - val_accuracy: 0.8790\n",
            "Epoch 10/10\n",
            "625/625 [==============================] - 2s 4ms/step - loss: 0.2012 - accuracy: 0.9129 - val_loss: 0.3951 - val_accuracy: 0.8742\n",
            "782/782 [==============================] - 4s 5ms/step - loss: 0.2936 - accuracy: 0.8921\n",
            "Test acc:0.892\n"
          ]
        }
      ]
    },
    {
      "cell_type": "markdown",
      "source": [
        "This get us 89.8% test accuracy: it doesn't seem to be particularly helpful in this case. However, for many text-classification dataset, it would be typical to see a one-percentage-point increase when using TF-IDF compared to plain binary encoding "
      ],
      "metadata": {
        "id": "LS2FFfkPDpLx"
      }
    },
    {
      "cell_type": "markdown",
      "source": [
        "### Exporting a model that processes raw strings\n",
        "If we want to export a standalone model independent of this pipeline, we should make sure that it incorporates its own text preprocessing. Thankfully, this is easy.\n",
        "Just create a new model that reuses your TextVectorization layer and adds to it the model you just trained:\n",
        "\n",
        "![image.png](data:image/png;base64,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)\n",
        "\n",
        "The resulting model can process batches of raw strings:\\\n",
        "import tensorflow as tf\\\n",
        "raw_text_data = tf.convert_to_tensor([\n",
        "[\"That was an excellent movie, I loved it.\"],\n",
        "])\\\n",
        "predictions = inference_model(raw_text_data)\\\n",
        "print(f\"{float(predictions[0] * 100):.2f} percent positive\")"
      ],
      "metadata": {
        "id": "UiKZGiHzEpp8"
      }
    },
    {
      "cell_type": "markdown",
      "source": [
        "### Processing words as a sequence: The sequence model approach\n",
        "These past few examples clearly show that word order matters: manual engineering of order-based features, such as bigrams, yields a nice accuracy boost. Now remember: the history of deep learning is that of a move away from manual feature engineering, toward letting models learn their own features, we exposed the model to raw word sequences and let it figure out such features on its own? This is what sequence models are about.\\\n",
        "To implement a sequence model, you start by representing your input samples as sequences of integer indices. Then, you'd map each integer to a vector to obtain vector sequences. Finally, you feed these sequences of vectors into a stack of layers that could cross-correlate features from adjacent vectors, such as a 1D convnet, a RNN, or Transformer.\\\n",
        "Nowadays, sequence modelling is almost universally done with Transformers. Oddly, one-dimensional convnets were never very popular in NLP, even though, a residual stack of depth-wise-separable 1D convolutions can often achieve comparable performance to a bidirectional LSTM, at a greatly reduced computational cost.\n",
        "### First Practical example"
      ],
      "metadata": {
        "id": "2fL8m5z4EJM1"
      }
    },
    {
      "cell_type": "code",
      "source": [
        "from tensorflow.keras import layers\n",
        "\n",
        "max_length=600\n",
        "max_tokens=20000\n",
        "text_vectorization=layers.TextVectorization(max_tokens=max_tokens,output_mode='int',output_sequence_length=max_length)\n",
        "text_vectorization.adapt(text_only_train_ds)\n",
        "\n",
        "int_train_ds = train_ds.map(lambda x,y: (text_vectorization(x),y), num_parallel_calls=4)\n",
        "int_val_ds = val_ds.map(lambda x,y: (text_vectorization(x),y), num_parallel_calls=4)\n",
        "int_test_ds = test_ds.map(lambda x,y: (text_vectorization(x),y), num_parallel_calls=4)"
      ],
      "metadata": {
        "id": "MVfsYGiUCYOt"
      },
      "execution_count": 25,
      "outputs": []
    },
    {
      "cell_type": "markdown",
      "source": [
        "next, let's make the model. The simplest way to convert our integer sequences to vector sequences is to one-hot encode the integers. On top of these one-hot vectors, we'll add a simple bidirectional LSTM."
      ],
      "metadata": {
        "id": "mc0ii9k4Hc3H"
      }
    },
    {
      "cell_type": "code",
      "source": [
        "import tensorflow as tf\n",
        "inputs = keras.Input(shape=(None,), dtype='int64')\n",
        "embedded = tf.one_hot(inputs,depth=max_tokens)\n",
        "x = layers.Bidirectional(layers.LSTM(32))(embedded)\n",
        "x = layers.Dropout(0.5)(x)\n",
        "outputs=layers.Dense(1,activation='sigmoid')(x)\n",
        "model = keras.Model(inputs,outputs)\n",
        "model.compile(optimizer='rmsprop',loss='binary_crossentropy',metrics=['accuracy'])\n",
        "model.summary()"
      ],
      "metadata": {
        "id": "bzsY-yLyHYfJ",
        "outputId": "4955457d-f37c-4227-acee-df5acbd8dd61",
        "colab": {
          "base_uri": "https://localhost:8080/"
        }
      },
      "execution_count": 26,
      "outputs": [
        {
          "output_type": "stream",
          "name": "stdout",
          "text": [
            "Model: \"model_3\"\n",
            "_________________________________________________________________\n",
            " Layer (type)                Output Shape              Param #   \n",
            "=================================================================\n",
            " input_4 (InputLayer)        [(None, None)]            0         \n",
            "                                                                 \n",
            " tf.one_hot (TFOpLambda)     (None, None, 20000)       0         \n",
            "                                                                 \n",
            " bidirectional (Bidirectiona  (None, 64)               5128448   \n",
            " l)                                                              \n",
            "                                                                 \n",
            " dropout_3 (Dropout)         (None, 64)                0         \n",
            "                                                                 \n",
            " dense_6 (Dense)             (None, 1)                 65        \n",
            "                                                                 \n",
            "=================================================================\n",
            "Total params: 5,128,513\n",
            "Trainable params: 5,128,513\n",
            "Non-trainable params: 0\n",
            "_________________________________________________________________\n"
          ]
        }
      ]
    },
    {
      "cell_type": "code",
      "source": [
        "callbacks = [keras.callbacks.ModelCheckpoint('one_hot_bidir_lstm.keras', save_best_only=True)]\n",
        "model.fit(int_train_ds, validation_data=int_val_ds,epochs=10,callbacks=callbacks)\n",
        "model = keras.model.load_model('one_hot_bidir_lstm.keras')\n",
        "print(f'Test acc: {model.evaluate(int_test_ds)[1]:.3f}')"
      ],
      "metadata": {
        "id": "QA5tsJQEIEpD",
        "outputId": "1b3ccf9c-5347-4678-fb71-6f617dd21fb7",
        "colab": {
          "base_uri": "https://localhost:8080/"
        }
      },
      "execution_count": null,
      "outputs": [
        {
          "output_type": "stream",
          "name": "stdout",
          "text": [
            "Epoch 1/10\n",
            "625/625 [==============================] - 159s 247ms/step - loss: 0.5688 - accuracy: 0.7064 - val_loss: 0.3782 - val_accuracy: 0.8576\n",
            "Epoch 2/10\n",
            "155/625 [======>.......................] - ETA: 1:39 - loss: 0.4334 - accuracy: 0.8325"
          ]
        }
      ]
    },
    {
      "cell_type": "markdown",
      "source": [
        "A first observation: this model trains very slowly, especially compared to the lightweight model of the previous section. This is because our inputs are quite large: each input sample is encoded as a matrix of size (600,20000) (600 words per sample, 20,000 possible words). That's 12,000,000 floats for a single movie review. Our bidirectional LSTM has a lot of work to do. Second, the model only gets to 87% test accuracy-it doesn't perform nearly as well as out binary unigram model.\n",
        "Clearly, using one-hot encoding turn words into vectors, which was the simplest thing we could do, wasn't a great idea. There's a better way: word embeddings."
      ],
      "metadata": {
        "id": "dbDsDCrOIkKX"
      }
    },
    {
      "cell_type": "markdown",
      "source": [
        "### Understanding Word Embeddings\n",
        "When you encode something via one-hot you are making a feature enginnering decision. You are injecting into your model a fundamental assumption about the structure of your feature space. That assumption is taht the different tokens you are encoding are all independent from each other: one-hot vectors are all orthogonal to one another.\\\n",
        "Words form a structured space: they share information with each other. To get a bit more abstract, the geometric relationship between two word vectors should reflect the semantic relationship between these words. For instance, in a reasonable word vector space, you would expect synonyms to be embedded into similar word vectors, and in general, you expect geometric distance between any two word vectors to relate to the semantic distance between the associated words. Words that mean different things should lie far away from each otherm whereas related words should be closer.\\\n",
        "Word embeddings are vector representations of words that achieve exactly this: they map human language into a structured geometric space.\\\n",
        "Wheras the vectors obtained through one-hot encoding are binary, sparse and very high-dimensional, word embeddings are low-dimensional floating-point vectors.\\\n",
        "It’s common to see word embeddings that are 256-dimensional 512-dimensional, or 1,024-dimensional 330 CHAPTER 11 Deep learning for text\n",
        "when dealing with very large vocabularies. On the other hand, one-hot encoding words\n",
        "generally leads to vectors that are 20,000-dimensional or greater (capturing a vocabu-\n",
        "lary of 20,000 tokens, in this case). So, word embeddings pack more information into\n",
        "far fewer dimensions."
      ],
      "metadata": {
        "id": "9xLahkENJVA3"
      }
    },
    {
      "cell_type": "markdown",
      "source": [
        "![image.png](data:image/png;base64,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)"
      ],
      "metadata": {
        "id": "LiQO7ZgMKwgz"
      }
    },
    {
      "cell_type": "markdown",
      "source": [
        "Besides being dense represetnations,word embeddings are also structured representations, and their structure is learned from data. similar words get embedded in close locations, and further, specific directions in the embedding space are meaningful.\\\n",
        "In real-world word-embedding spaces, common examples of meaningful transformations are \"gender\" vectors and \"plural\" vectors. For instance, by adding a \"female\" vector to the vector \"king\" we obtain the vetor \"queen\".\\\n",
        "Let's look at how to use such an embedding space in practice. There are two ways to obtain word embeddings:\n",
        "* Learn word embeddings jointly with the main task you care about (such as document classification or sentiment prediction). In this setup, you start with random word vectors and then learn word vectors in the same way you learn the weights of a neural network.\n",
        "* Load into your model word embeddings that were precomputed using a different machine learning task than the one you are trying to solve. These are called pretrained word embeddings."
      ],
      "metadata": {
        "id": "5QNB1qy6Kzfg"
      }
    },
    {
      "cell_type": "markdown",
      "source": [
        "#### Learning word embeddings with Embedding layer\n",
        "Is there some ideal word-embedding space that would perfectly map human language and could be used for any natural language processing task? Possibly, but we have yet to compute anything of the sort. Also, there is no such a thing as human language. What makes a good word-embedding space depends heavily on your task.\\\n",
        "It's thus reasonable to learn a new embedding space with every new task. Fortunately, backpropagation makes this easy, and Keras makes it even easier. It's about learning the weights of a layer: The Embedding layer."
      ],
      "metadata": {
        "id": "pUJa3lRzOvcj"
      }
    },
    {
      "cell_type": "code",
      "source": [
        "embedding_layer=layers.Embedding(input_dim=max_tokens, output_dim=256)"
      ],
      "metadata": {
        "id": "VfVXgt3zIf5L"
      },
      "execution_count": null,
      "outputs": []
    },
    {
      "cell_type": "markdown",
      "source": [
        "The Embedding layer is best understood as a dictionary that maps integer indices to dense vectors. It takes integers as input, looks up these integers in an internal dictionary and returns the associated vectors. It's effectively a dictionary lookup.\\\n",
        "Word index -> Embedding Layer -> Corresponding word vector\\\n",
        "The Embedding layer takes as input a rank-2 tensor of integers, of shape (batch_size,sequence_length), where each entry is a sequence of integers. The layer then returns a 3D floating-point tensor of shape (batch_size, sequence_length, embedding_dimensionality).\\\n",
        "When you instantiate Embedding layer, its weights are initially random, just as with any other layer. During training, these word vectors are gradually adjusted via backpropagation, structuring the space into something the downstream model can exploit. Once fully trained, the embedding space will show a lot of structure- a kind of structure specialized for the specific problem for hwich you are training your model."
      ],
      "metadata": {
        "id": "HODfLwM9sAL0"
      }
    },
    {
      "cell_type": "code",
      "source": [
        "#Model using Embedding layer trained from scratch\n",
        "\n",
        "inputs = keras.Input(shape=(None,), dtype='int64')\n",
        "embedded = layers.Embedding(input_dim=max_tokens,output_dim=256)(inputs)\n",
        "x = layers.Bidirectional(layers.LSTM(32))(embedded)\n",
        "x = layers.Dropout(0.5)(x)\n",
        "outputs = layers.Dense(1,activation='sigmoid')(x)\n",
        "model = keras.Model(inputs,outputs)\n",
        "model.compile(optimizer='rmsprop',loss='binary_crossentropy', metrics=['accuracy'])\n",
        "model.summary()\n",
        "callbacks=[keras.callbacks.ModelCheckpoint('embeddings_bidir_gru.keras'),save_best_only=True]\n",
        "model.fit(int_train_ds, validation_data=int_val_ds, epochs=10,callbacks=callbacks)\n",
        "model = keras.models.load_model('embeddings_bidir_gru.keras')\n",
        "print(f\"Train acc: {model.evaluate(int_test_ds)[1]:.3f}\")"
      ],
      "metadata": {
        "id": "WI_zf0D2r7UA"
      },
      "execution_count": null,
      "outputs": []
    },
    {
      "cell_type": "markdown",
      "source": [
        "It trains much faster than the one-hot model, and its test accuracy is comparable. However, we're still way off form the results of our basic bigram model. Part of the reason is simply that the model is looking at slightly less data: the bigram model processed full reviews, while our sequence model truncates sequences after 600 words."
      ],
      "metadata": {
        "id": "F_x8ZGr2ulBm"
      }
    },
    {
      "cell_type": "markdown",
      "source": [
        "#### Understanding Padding and Masking\n",
        "\n"
      ],
      "metadata": {
        "id": "v16uTINFu5WB"
      }
    },
    {
      "cell_type": "code",
      "source": [],
      "metadata": {
        "id": "yLQX5wKvu4Tz"
      },
      "execution_count": null,
      "outputs": []
    }
  ],
  "metadata": {
    "kernelspec": {
      "display_name": "tf",
      "language": "python",
      "name": "python3"
    },
    "language_info": {
      "codemirror_mode": {
        "name": "ipython",
        "version": 3
      },
      "file_extension": ".py",
      "mimetype": "text/x-python",
      "name": "python",
      "nbconvert_exporter": "python",
      "pygments_lexer": "ipython3",
      "version": "3.10.10"
    },
    "orig_nbformat": 4,
    "colab": {
      "provenance": [],
      "gpuType": "T4"
    },
    "accelerator": "GPU",
    "gpuClass": "standard"
  },
  "nbformat": 4,
  "nbformat_minor": 0
}